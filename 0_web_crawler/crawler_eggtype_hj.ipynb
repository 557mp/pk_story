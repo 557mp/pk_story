{
 "cells": [
  {
   "cell_type": "code",
   "execution_count": 1,
   "metadata": {
    "collapsed": true
   },
   "outputs": [],
   "source": [
    "import requests\n",
    "from bs4 import BeautifulSoup"
   ]
  },
  {
   "cell_type": "code",
   "execution_count": 3,
   "metadata": {
    "collapsed": true
   },
   "outputs": [],
   "source": [
    "def get_html(url):\n",
    "    html = \"\"\n",
    "    resp = requests.get(url)\n",
    "\n",
    "    if resp.status_code == 200:\n",
    "        html = resp.text\n",
    "\n",
    "    return html"
   ]
  },
  {
   "cell_type": "code",
   "execution_count": 9,
   "metadata": {
    "scrolled": true
   },
   "outputs": [
    {
     "name": "stderr",
     "output_type": "stream",
     "text": [
      "/home/khkim/anaconda3/envs/pk_story/lib/python3.6/site-packages/bs4/__init__.py:181: UserWarning: No parser was explicitly specified, so I'm using the best available HTML parser for this system (\"html5lib\"). This usually isn't a problem, but if you run this code on another system, or in a different virtual environment, it may use a different parser and behave differently.\n",
      "\n",
      "The code that caused this warning is on line 193 of the file /home/khkim/anaconda3/envs/pk_story/lib/python3.6/runpy.py. To get rid of this warning, change code that looks like this:\n",
      "\n",
      " BeautifulSoup(YOUR_MARKUP})\n",
      "\n",
      "to this:\n",
      "\n",
      " BeautifulSoup(YOUR_MARKUP, \"html5lib\")\n",
      "\n",
      "  markup_type=markup_type))\n"
     ]
    }
   ],
   "source": [
    "url = 'https://namu.wiki/w/%EA%B0%95%EC%B1%99%EC%9D%B4'\n",
    "c = get_html(url)\n",
    "\n",
    "soup = BeautifulSoup(c)\n",
    "\n",
    "pages = []"
   ]
  },
  {
   "cell_type": "code",
   "execution_count": 10,
   "metadata": {},
   "outputs": [],
   "source": [
    "tables = soup.find_all(class_=\"wiki-table-wrap\")"
   ]
  },
  {
   "cell_type": "code",
   "execution_count": 11,
   "metadata": {},
   "outputs": [
    {
     "name": "stdout",
     "output_type": "stream",
     "text": [
      "255\n"
     ]
    }
   ],
   "source": [
    "for table in tables:\n",
    "    utag = table.find_all(\"u\") \n",
    "    for u in utag:\n",
    "        if u.get_text().strip() == \"알그룹\" or u.get_text().strip() == \"알 그룹\":\n",
    "            for i, tr in enumerate(table('tr')):\n",
    "                if i == 1:\n",
    "                    td = tr('td')[-1]\n",
    "                    for p in td('p'):\n",
    "                        print(p.get_text())"
   ]
  },
  {
   "cell_type": "code",
   "execution_count": 12,
   "metadata": {},
   "outputs": [
    {
     "name": "stdout",
     "output_type": "stream",
     "text": [
      "['45']\n"
     ]
    }
   ],
   "source": [
    "for table in tables:\n",
    "    utag = table.find_all(\"u\") \n",
    "    for u in utag:\n",
    "        if u.get_text().strip() == \"알그룹\" or u.get_text().strip() == \"알 그룹\":\n",
    "            count = 0\n",
    "            tmp=0\n",
    "            td_list = []\n",
    "            for tr in table('tr'):\n",
    "                for td in table('td'):\n",
    "                    count +=1;\n",
    "                    \n",
    "                if count>tmp:\n",
    "                    tmp= count\n",
    "                    count=0\n",
    "                else:\n",
    "                    count=0\n",
    "            \n",
    "            for tr in table('tr'):\n",
    "                for td in table('td'):\n",
    "                    count+=1\n",
    "                       \n",
    "                if count==tmp:\n",
    "                    td_list.append(td.get_text().strip())\n",
    "                    print(td_list)"
   ]
  },
  {
   "cell_type": "code",
   "execution_count": null,
   "metadata": {
    "collapsed": true
   },
   "outputs": [],
   "source": []
  }
 ],
 "metadata": {
  "kernelspec": {
   "display_name": "pk_story",
   "language": "python",
   "name": "pk_story"
  },
  "language_info": {
   "codemirror_mode": {
    "name": "ipython",
    "version": 3
   },
   "file_extension": ".py",
   "mimetype": "text/x-python",
   "name": "python",
   "nbconvert_exporter": "python",
   "pygments_lexer": "ipython3",
   "version": "3.6.0"
  }
 },
 "nbformat": 4,
 "nbformat_minor": 2
}
