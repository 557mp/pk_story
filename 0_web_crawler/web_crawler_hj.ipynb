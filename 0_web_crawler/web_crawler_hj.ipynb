{
 "cells": [
  {
   "cell_type": "code",
   "execution_count": 40,
   "metadata": {},
   "outputs": [],
   "source": [
    "import requests\n",
    "from bs4 import BeautifulSoup"
   ]
  },
  {
   "cell_type": "code",
   "execution_count": 119,
   "metadata": {
    "scrolled": true
   },
   "outputs": [
    {
     "name": "stderr",
     "output_type": "stream",
     "text": [
      "C:\\Users\\hyooo\\Anaconda3\\lib\\site-packages\\bs4\\__init__.py:181: UserWarning: No parser was explicitly specified, so I'm using the best available HTML parser for this system (\"lxml\"). This usually isn't a problem, but if you run this code on another system, or in a different virtual environment, it may use a different parser and behave differently.\n",
      "\n",
      "The code that caused this warning is on line 193 of the file C:\\Users\\hyooo\\Anaconda3\\lib\\runpy.py. To get rid of this warning, change code that looks like this:\n",
      "\n",
      " BeautifulSoup(YOUR_MARKUP})\n",
      "\n",
      "to this:\n",
      "\n",
      " BeautifulSoup(YOUR_MARKUP, \"lxml\")\n",
      "\n",
      "  markup_type=markup_type))\n"
     ]
    }
   ],
   "source": [
    "url = 'https://namu.wiki/w/%EC%B9%98%EC%BD%94%EB%A6%AC%ED%83%80'\n",
    "c = get_html(url)\n",
    "\n",
    "soup = BeautifulSoup(c)\n",
    "\n",
    "pages = []"
   ]
  },
  {
   "cell_type": "code",
   "execution_count": 120,
   "metadata": {},
   "outputs": [],
   "source": [
    "tables = soup.find_all(class_=\"wiki-table-wrap\")"
   ]
  },
  {
   "cell_type": "code",
   "execution_count": 123,
   "metadata": {},
   "outputs": [
    {
     "name": "stdout",
     "output_type": "stream",
     "text": [
      "괴수식물\n"
     ]
    }
   ],
   "source": [
    "for table in tables:\n",
    "    utag = table.find_all(\"u\") \n",
    "    for u in utag:\n",
    "        if u.get_text().strip() == \"알그룹\" or u.get_text().strip() == \"알 그룹\":\n",
    "            for i, tr in enumerate(table('tr')):\n",
    "                if i == 1:\n",
    "                    td = tr('td')[-1]\n",
    "                    for p in td('p'):\n",
    "                        print(p.get_text())"
   ]
  },
  {
   "cell_type": "code",
   "execution_count": 137,
   "metadata": {},
   "outputs": [
    {
     "name": "stdout",
     "output_type": "stream",
     "text": [
      "['괴수식물']\n"
     ]
    }
   ],
   "source": [
    "for table in tables:\n",
    "    utag = table.find_all(\"u\") \n",
    "    for u in utag:\n",
    "        if u.get_text().strip() == \"알그룹\" or u.get_text().strip() == \"알 그룹\":\n",
    "            count = 0\n",
    "            tmp=0\n",
    "            td_list = []\n",
    "            for tr in table('tr'):\n",
    "                for td in table('td'):\n",
    "                    count +=1;\n",
    "                    \n",
    "                if count>tmp:\n",
    "                    tmp= count\n",
    "                    count=0\n",
    "                else:\n",
    "                    count=0\n",
    "            \n",
    "            for tr in table('tr'):\n",
    "                for td in table('td'):\n",
    "                    count+=1\n",
    "                       \n",
    "                if count==tmp:\n",
    "                    td_list.append(td.get_text().strip())"
   ]
  }
 ],
 "metadata": {
  "kernelspec": {
   "display_name": "Python 3",
   "language": "python",
   "name": "python3"
  },
  "language_info": {
   "codemirror_mode": {
    "name": "ipython",
    "version": 3
   },
   "file_extension": ".py",
   "mimetype": "text/x-python",
   "name": "python",
   "nbconvert_exporter": "python",
   "pygments_lexer": "ipython3",
   "version": "3.6.5"
  }
 },
 "nbformat": 4,
 "nbformat_minor": 2
}
